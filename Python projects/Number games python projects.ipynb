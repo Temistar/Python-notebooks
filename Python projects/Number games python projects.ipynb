{
 "cells": [
  {
   "cell_type": "markdown",
   "id": "e00fe8f3",
   "metadata": {},
   "source": [
    "### Guess the number game 1\n",
    "You are expected to guess a random number between 1 and 10, if your guess is correct you get a congratulatory message. If your guess is wrong, it give you extra two times to make more guesses, when it is a total of three guesses and your answer is still wrong, the game cut off and give you a oops message."
   ]
  },
  {
   "cell_type": "code",
   "execution_count": 1,
   "id": "61ed6edf",
   "metadata": {},
   "outputs": [
    {
     "name": "stdout",
     "output_type": "stream",
     "text": [
      "guess the number3\n",
      "guess the number4\n",
      "guess the number3\n",
      "Your guess is incorrect the number is 10\n"
     ]
    }
   ],
   "source": [
    "import random #python module for generating random number\n",
    "number = random.randint(1,10) #generating a random integer number between 1, 10\n",
    "for i in range(0,3): #settiing the number of guesses a player can make\n",
    "    user = int(input(\"guess the number\")) #receiveing the user input\n",
    "    if user == number: #if loop for checking if the player guess is correct\n",
    "        print(\"Hurray!!\")\n",
    "        print(f\"you guessed the number right it's {number}\")\n",
    "        break\n",
    "if user != number:\n",
    "    print(f\"Your guess is incorrect the number is {number}\")"
   ]
  },
  {
   "cell_type": "markdown",
   "id": "e59dea64",
   "metadata": {},
   "source": [
    "### Guess the number game 2\n",
    "The computer picks a number from 1 to 20 and stores it PROMPT user to guess by INPUT a number from 1 to 20 and store it check if user number is equal, PRINT you win and stop game if user number is not equal, check if number is high or low, if high PRINT too high and PROMPT user, IF low PRINT too low and PROMT user\n",
    "After six input PRINT you lose"
   ]
  },
  {
   "cell_type": "code",
   "execution_count": 2,
   "id": "a2ea5b02",
   "metadata": {},
   "outputs": [
    {
     "name": "stdout",
     "output_type": "stream",
     "text": [
      "Hello! What is your name?\n"
     ]
    },
    {
     "ename": "KeyboardInterrupt",
     "evalue": "Interrupted by user",
     "output_type": "error",
     "traceback": [
      "\u001b[1;31m---------------------------------------------------------------------------\u001b[0m",
      "\u001b[1;31mKeyboardInterrupt\u001b[0m                         Traceback (most recent call last)",
      "\u001b[1;32m~\\AppData\\Local\\Temp/ipykernel_9196/2862743061.py\u001b[0m in \u001b[0;36m<module>\u001b[1;34m\u001b[0m\n\u001b[0;32m      2\u001b[0m \u001b[1;33m\u001b[0m\u001b[0m\n\u001b[0;32m      3\u001b[0m \u001b[0mprint\u001b[0m\u001b[1;33m(\u001b[0m\u001b[1;34m\"Hello! What is your name?\"\u001b[0m\u001b[1;33m)\u001b[0m\u001b[1;33m\u001b[0m\u001b[1;33m\u001b[0m\u001b[0m\n\u001b[1;32m----> 4\u001b[1;33m \u001b[0mname\u001b[0m \u001b[1;33m=\u001b[0m \u001b[0minput\u001b[0m\u001b[1;33m(\u001b[0m\u001b[1;33m)\u001b[0m\u001b[1;33m\u001b[0m\u001b[1;33m\u001b[0m\u001b[0m\n\u001b[0m\u001b[0;32m      5\u001b[0m \u001b[1;33m\u001b[0m\u001b[0m\n\u001b[0;32m      6\u001b[0m \u001b[0mprint\u001b[0m \u001b[1;33m(\u001b[0m\u001b[1;34m\"Hi!\"\u001b[0m\u001b[1;33m,\u001b[0m \u001b[0mname\u001b[0m\u001b[1;33m,\u001b[0m \u001b[1;34m\"Welcome to my guessing game.\\nI'm thinking of a number between 1 and 20 inclusive.\\nYou have six guesses\"\u001b[0m\u001b[1;33m)\u001b[0m\u001b[1;33m\u001b[0m\u001b[1;33m\u001b[0m\u001b[0m\n",
      "\u001b[1;32m~\\Anaconda3\\lib\\site-packages\\ipykernel\\kernelbase.py\u001b[0m in \u001b[0;36mraw_input\u001b[1;34m(self, prompt)\u001b[0m\n\u001b[0;32m   1008\u001b[0m             \u001b[0mself\u001b[0m\u001b[1;33m.\u001b[0m\u001b[0m_parent_ident\u001b[0m\u001b[1;33m[\u001b[0m\u001b[1;34m\"shell\"\u001b[0m\u001b[1;33m]\u001b[0m\u001b[1;33m,\u001b[0m\u001b[1;33m\u001b[0m\u001b[1;33m\u001b[0m\u001b[0m\n\u001b[0;32m   1009\u001b[0m             \u001b[0mself\u001b[0m\u001b[1;33m.\u001b[0m\u001b[0mget_parent\u001b[0m\u001b[1;33m(\u001b[0m\u001b[1;34m\"shell\"\u001b[0m\u001b[1;33m)\u001b[0m\u001b[1;33m,\u001b[0m\u001b[1;33m\u001b[0m\u001b[1;33m\u001b[0m\u001b[0m\n\u001b[1;32m-> 1010\u001b[1;33m             \u001b[0mpassword\u001b[0m\u001b[1;33m=\u001b[0m\u001b[1;32mFalse\u001b[0m\u001b[1;33m,\u001b[0m\u001b[1;33m\u001b[0m\u001b[1;33m\u001b[0m\u001b[0m\n\u001b[0m\u001b[0;32m   1011\u001b[0m         )\n\u001b[0;32m   1012\u001b[0m \u001b[1;33m\u001b[0m\u001b[0m\n",
      "\u001b[1;32m~\\Anaconda3\\lib\\site-packages\\ipykernel\\kernelbase.py\u001b[0m in \u001b[0;36m_input_request\u001b[1;34m(self, prompt, ident, parent, password)\u001b[0m\n\u001b[0;32m   1049\u001b[0m             \u001b[1;32mexcept\u001b[0m \u001b[0mKeyboardInterrupt\u001b[0m\u001b[1;33m:\u001b[0m\u001b[1;33m\u001b[0m\u001b[1;33m\u001b[0m\u001b[0m\n\u001b[0;32m   1050\u001b[0m                 \u001b[1;31m# re-raise KeyboardInterrupt, to truncate traceback\u001b[0m\u001b[1;33m\u001b[0m\u001b[1;33m\u001b[0m\u001b[1;33m\u001b[0m\u001b[0m\n\u001b[1;32m-> 1051\u001b[1;33m                 \u001b[1;32mraise\u001b[0m \u001b[0mKeyboardInterrupt\u001b[0m\u001b[1;33m(\u001b[0m\u001b[1;34m\"Interrupted by user\"\u001b[0m\u001b[1;33m)\u001b[0m \u001b[1;32mfrom\u001b[0m \u001b[1;32mNone\u001b[0m\u001b[1;33m\u001b[0m\u001b[1;33m\u001b[0m\u001b[0m\n\u001b[0m\u001b[0;32m   1052\u001b[0m             \u001b[1;32mexcept\u001b[0m \u001b[0mException\u001b[0m\u001b[1;33m:\u001b[0m\u001b[1;33m\u001b[0m\u001b[1;33m\u001b[0m\u001b[0m\n\u001b[0;32m   1053\u001b[0m                 \u001b[0mself\u001b[0m\u001b[1;33m.\u001b[0m\u001b[0mlog\u001b[0m\u001b[1;33m.\u001b[0m\u001b[0mwarning\u001b[0m\u001b[1;33m(\u001b[0m\u001b[1;34m\"Invalid Message:\"\u001b[0m\u001b[1;33m,\u001b[0m \u001b[0mexc_info\u001b[0m\u001b[1;33m=\u001b[0m\u001b[1;32mTrue\u001b[0m\u001b[1;33m)\u001b[0m\u001b[1;33m\u001b[0m\u001b[1;33m\u001b[0m\u001b[0m\n",
      "\u001b[1;31mKeyboardInterrupt\u001b[0m: Interrupted by user"
     ]
    }
   ],
   "source": [
    "import random\n",
    "\n",
    "print(\"Hello! What is your name?\")\n",
    "name = input()\n",
    "\n",
    "print (\"Hi!\", name, \"Welcome to my guessing game.\\nI'm thinking of a number between 1 and 20 inclusive.\\nYou have six guesses\")\n",
    "\n",
    "number = random.randint(1, 20)\n",
    "\n",
    "num_of_guesses = 0\n",
    "while num_of_guesses < 6:\n",
    "    print (\"Take a guess:\")\n",
    "    guess = int (input())\n",
    "    \n",
    "    if guess== number:\n",
    "        print(\"you win!\")\n",
    "        break\n",
    "    \n",
    "    if guess < number:\n",
    "        print(\"Your guess is too low\")\n",
    "    if guess > number:\n",
    "        print (\"Your guess is too high\")\n",
    "    \n",
    "    num_of_guesses = num_of_guesses + 1\n",
    "           \n",
    "if guess == number:\n",
    "    print(\"Good job\" , name, \"! You have guessed my number in\", num_of_guesses, \"guesses!\")\n",
    "          \n",
    "if guess != number:\n",
    "    print(\"You lose! The number I was thinking of is\", number)"
   ]
  },
  {
   "cell_type": "markdown",
   "id": "fef38c97",
   "metadata": {},
   "source": [
    "### Addition game\n",
    "GENERATE two number from 1 to 20 and store it. Add two numbers together and store the number. The Computer prints the two generated number and then PROMPTs user to write the answer to the added two numbers. It checks if user answer is correct, if correct ask Do you want to continue."
   ]
  },
  {
   "cell_type": "code",
   "execution_count": null,
   "id": "b37c58b1",
   "metadata": {},
   "outputs": [],
   "source": [
    "import random\n",
    "print (\"Welcome to the Maths lab game PRESS ENTER TO CONTINE\")\n",
    "name = input( \"What is your name\")\n",
    "\n",
    "print (\"Hi!\", name, \"Welcome to my addition guessing game.\\n find the addition.\")\n",
    "while True:\n",
    "    number1 = random.randint(1, 20)\n",
    "    number2 = random.randint(1, 20)\n",
    "    \n",
    "    total = number1 + number2\n",
    "    \n",
    "    print (number1, \"+\", number2, \"=\")\n",
    "    ans = int (input())\n",
    "    \n",
    "    if ans == total:\n",
    "        print (\"Good Job!\")\n",
    "    else:\n",
    "        print (\"Your answer is wrong!\")\n",
    "        print (\"the answer is = \", total)\n",
    "        cont = input(\"Press Y to continue and N to end game? (y/n)\")\n",
    "        if cont == 'n':\n",
    "            break"
   ]
  },
  {
   "cell_type": "markdown",
   "id": "b4966651",
   "metadata": {},
   "source": [
    "### Guess the number game 3 with scoreboard\n",
    "GENERATE two numbers and store it. PROMPT the user to guess the number while the number of guesses is less than five. If correct add 10 POINTS and store it, then PRINT out you get ten points. PROMPT user for another number if not correct remove 1 point from their score and store it, and then PRINT a point is removed from your scrore. PROMPT user again If the number of gussses is greater than five. PRINT the total score of the user"
   ]
  },
  {
   "cell_type": "code",
   "execution_count": null,
   "id": "840f98e3",
   "metadata": {},
   "outputs": [],
   "source": [
    "import random\n",
    "print (\"Welcome to the Maths lab game\")\n",
    "name = input( \"What is your name \")\n",
    "\n",
    "print (\"Hi!\", name, \"Welcome to my guessing game.\\nI'm thinking of a number between 50 and 60 inclusive.\\nYou have Five guesses.\\nYou start with 10 Points. Each wrong guess subracts a point.\")\n",
    "\n",
    "num_of_guesses = 0\n",
    "Score = 10\n",
    "number = random.randint(50, 60)\n",
    "while num_of_guesses < 5:\n",
    "    \n",
    "    print (\"Take a guess:\")\n",
    "    guess = int (input())\n",
    "    \n",
    "     \n",
    "    \n",
    "   \n",
    "    if guess== number:\n",
    "        print(\"Your answer is correct. You get 10 points\")\n",
    "        print(\"Good job\" , name, \"! You have guessed my number in\", num_of_guesses, \"guesses!\\n\" )\n",
    "        Score = Score + 10\n",
    "        break\n",
    "        \n",
    "        \n",
    "    if guess != number:\n",
    "        print(\"Your answer is wrong. A point is removed from your score\")\n",
    "        Score = Score - 1\n",
    "    \n",
    "    num_of_guesses = num_of_guesses + 1\n",
    "print (\"Your total is\", Score, \"points\")"
   ]
  },
  {
   "cell_type": "markdown",
   "id": "a7023b84",
   "metadata": {},
   "source": [
    "### Multiplication Game\n"
   ]
  },
  {
   "cell_type": "code",
   "execution_count": null,
   "id": "3ebccace",
   "metadata": {},
   "outputs": [],
   "source": [
    "import random\n",
    "print (\"Welcome to the Maths lab game\")\n",
    "name = input( \"What is your name\")\n",
    "\n",
    "print (\"Hi!\", name, \"Welcome to my multiplication guessing game.\\n find the answer.\\nYou start with 10 Points. Each wrong answer subracts a point, a correct answer adds a point.\")\n",
    "\n",
    "score = 10\n",
    "while True:\n",
    "    num1 = random.randint(1, 30)\n",
    "    num2 = random.randint(1, 30)\n",
    "    \n",
    "    total = num1 * num2\n",
    "    print (num1, \"*\", num2, \"=\")\n",
    "    ans = int(input())\n",
    "    \n",
    "    if ans == total:\n",
    "        print (\"Good job\" , name, \"! Your answer is correct\")\n",
    "        score = score + 1\n",
    "    else:\n",
    "        print (\"Your answer is wrong!\")\n",
    "        print (\"the answer is = \", total)\n",
    "        score = score - 1\n",
    "        \n",
    "    cont = input(\"Press Y to continue and N to end game? (y/n)\")\n",
    "    if cont == 'n':\n",
    "            if score >= 10:\n",
    "                print (\"You are a Genius! You had\", score, \"points\")\n",
    "            else:\n",
    "                print (\"You need to improve on ur Maths skills. You had\", score, \"points\")\n",
    "            break"
   ]
  },
  {
   "cell_type": "markdown",
   "id": "08d1dfd8",
   "metadata": {},
   "source": [
    "### Dice roll simulator"
   ]
  },
  {
   "cell_type": "code",
   "execution_count": 5,
   "id": "ac36bfa8",
   "metadata": {},
   "outputs": [
    {
     "name": "stdout",
     "output_type": "stream",
     "text": [
      " press 1 fo roll the dice and 2 for exit     \n",
      "what you want to do\n",
      "1\n",
      "your dice roll is 5\n",
      " press 1 fo roll the dice and 2 for exit     \n",
      "what you want to do\n",
      "2\n"
     ]
    }
   ],
   "source": [
    "import random \n",
    "while True:     \n",
    "     print(''' press 1 for2\n",
    "     roll the dice and 2 for exit     ''')    \n",
    "     user = int(input(\"what you want to do\\n\"))     \n",
    "     if user==1:         \n",
    "        number = random.randint(1,6)         \n",
    "        print('your dice roll is', number)     \n",
    "     else:         \n",
    "        break"
   ]
  },
  {
   "cell_type": "markdown",
   "id": "217f442c",
   "metadata": {},
   "source": [
    "### Guessing game 4"
   ]
  },
  {
   "cell_type": "code",
   "execution_count": null,
   "id": "e4aa749f",
   "metadata": {},
   "outputs": [
    {
     "name": "stdout",
     "output_type": "stream",
     "text": [
      "yay the computer guessed your  <function guess at 0x00000204F2277438> correctly!\n",
      "Guess a number between 1 and 1010\n",
      "Sorry,guess again. Too high\n",
      "Guess a number between 1 and 105\n",
      "Sorry, guess again. Too low\n",
      "Guess a number between 1 and 103\n",
      "Sorry, guess again. Too low\n",
      "Guess a number between 1 and 102\n",
      "Sorry, guess again. Too low\n",
      "Guess a number between 1 and 101\n",
      "Sorry, guess again. Too low\n",
      "Guess a number between 1 and 104\n",
      "Sorry, guess again. Too low\n",
      "Guess a number between 1 and 107\n",
      "Sorry, guess again. Too low\n",
      "Guess a number between 1 and 108\n",
      "Yay congrats .You have guessesd the number 8 Correctly\n"
     ]
    }
   ],
   "source": [
    "import random       #imported the random library\n",
    "\n",
    "def guess(x):       #created a function for guessing\n",
    "    random_number=random.randint(1, x)  #implemented the random library to generate a random number\n",
    "    guess=0\n",
    "    while(guess!=random_number):\n",
    "        guess=int(input(f\"Guess a number between 1 and {x}\"))\n",
    "        if(guess<random_number):\n",
    "            print(\"Sorry, guess again. Too low\")\n",
    "        elif guess>random_number:\n",
    "            print(\"Sorry,guess again. Too high\")\n",
    "    \n",
    "    print(\"Yay congrats .You have guessesd the number\",random_number,\"Correctly\")\n",
    "\n",
    "def computer_guess(x): #created a function for giving feedback on how high or low the guess is\n",
    "    low=1\n",
    "    high=x\n",
    "    feedback=\" \"\n",
    "    while feedback!='c':\n",
    "        if low !=high:\n",
    "            guess=random.randint(low,high)\n",
    "        else:\n",
    "            guess=low \n",
    "        feedback=input(f\"Is it {guess} too (H) , too low (L) , or correct (C)??\").lower()\n",
    "        if(feedback==\"h\"):\n",
    "            high=guess-1\n",
    "        elif feedback=='l':\n",
    "            low=guess+1\n",
    "    \n",
    "print(\"yay the computer guessed your \",guess,\"correctly!\")\n",
    "\n",
    "\n",
    "guess(10)\n",
    "computer_guess(100)"
   ]
  },
  {
   "cell_type": "code",
   "execution_count": null,
   "id": "b77a698d",
   "metadata": {},
   "outputs": [],
   "source": []
  }
 ],
 "metadata": {
  "kernelspec": {
   "display_name": "Python 3 (ipykernel)",
   "language": "python",
   "name": "python3"
  },
  "language_info": {
   "codemirror_mode": {
    "name": "ipython",
    "version": 3
   },
   "file_extension": ".py",
   "mimetype": "text/x-python",
   "name": "python",
   "nbconvert_exporter": "python",
   "pygments_lexer": "ipython3",
   "version": "3.7.11"
  }
 },
 "nbformat": 4,
 "nbformat_minor": 5
}
