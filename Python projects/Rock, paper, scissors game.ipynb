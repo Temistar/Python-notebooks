{
 "cells": [
  {
   "cell_type": "code",
   "execution_count": null,
   "id": "c0ec0463",
   "metadata": {},
   "outputs": [],
   "source": [
    "import random\n",
    "\n",
    "def play():\n",
    "    print(\"### Welcome to Rock Paper Scissor Game ###\")\n",
    "    \n",
    "    rounds=int(input(\"\\n How many rounds you want to play? \"))\n",
    "\n",
    "    user_score=0\n",
    "    computer_score=0\n",
    "\n",
    "  \n",
    "\n",
    "    for i in range(0,rounds,1):\n",
    "        user=input(\"What's your chois? 'r' for rock , 'p' for paper ,'s' for scissors \\n\")\n",
    "        computer=random.choice(['r','p','s'])\n",
    "        if is_round_win(user,computer):\n",
    "            print(\"You won this round\")\n",
    "            user_score=user_score+1\n",
    "    \n",
    "        elif is_round_win(user,computer)!=True:\n",
    "            print(\"Computer won this round\")\n",
    "            computer_score=computer_score+1\n",
    "        else:\n",
    "            print(\"Its a tie round\")\n",
    "\n",
    "    print(\"Your Score is \",user_score)\n",
    "    print(\"Computer Score is\",computer_score)\n",
    "    winner_decider(user_score,computer_score)\n",
    "   \n",
    "\n",
    "\n",
    "def is_round_win(player,opponent):\n",
    "    #return true if player wins\n",
    "    #r>s,s>p,p>r\n",
    "\n",
    "    if (player=='r' and opponent =='s') or(player=='s' and opponent =='p') or (player=='p' and opponent =='r'):\n",
    "        return True\n",
    "\n",
    "\n",
    "def winner_decider(user_score,computer_score):\n",
    "     if(user_score>computer_score):\n",
    "        print(\"You won the game\")\n",
    "     elif(user_score<computer_score):\n",
    "        print(\"Computer won the game \\n Better luck next time\")\n",
    "     else:\n",
    "        print(\"Scores are level..Game tied\")\n",
    "\n",
    "play()"
   ]
  }
 ],
 "metadata": {
  "kernelspec": {
   "display_name": "Python 3 (ipykernel)",
   "language": "python",
   "name": "python3"
  },
  "language_info": {
   "codemirror_mode": {
    "name": "ipython",
    "version": 3
   },
   "file_extension": ".py",
   "mimetype": "text/x-python",
   "name": "python",
   "nbconvert_exporter": "python",
   "pygments_lexer": "ipython3",
   "version": "3.7.11"
  }
 },
 "nbformat": 4,
 "nbformat_minor": 5
}
